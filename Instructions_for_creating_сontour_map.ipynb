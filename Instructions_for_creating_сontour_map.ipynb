{
  "nbformat": 4,
  "nbformat_minor": 0,
  "metadata": {
    "colab": {
      "provenance": [],
      "authorship_tag": "ABX9TyOG/Nkw7jaytCVUh8ivC5j0",
      "include_colab_link": true
    },
    "kernelspec": {
      "name": "python3",
      "display_name": "Python 3"
    },
    "language_info": {
      "name": "python"
    }
  },
  "cells": [
    {
      "cell_type": "markdown",
      "metadata": {
        "id": "view-in-github",
        "colab_type": "text"
      },
      "source": [
        "<a href=\"https://colab.research.google.com/github/JuliaKovalchook/Ukraine-TopoJSON/blob/main/Instructions_for_creating_%D1%81ontour_map.ipynb\" target=\"_parent\"><img src=\"https://colab.research.google.com/assets/colab-badge.svg\" alt=\"Open In Colab\"/></a>"
      ]
    },
    {
      "cell_type": "markdown",
      "source": [
        "##Openstreetmap"
      ],
      "metadata": {
        "id": "QWqjHi0wx-1o"
      }
    },
    {
      "cell_type": "markdown",
      "source": [
        "Openstreetmap містить інформацію щодо координат і багато іншої географічної інформації щодо всіх країн, громад, сіл і навіть озер чи ставків.\n",
        "Існує як і API для витягу даних так і платформа, яка одразу допомагає візуалізувати запит для витягу дані.  \n",
        "<br>\n",
        "Якщо ви бажаєте витягнути лише декількох файлів з інформацією або ви ще не надто впевнено себе відчуваєте з API, Overpass turbo є найкращим рішенням оскільки візуалізація одразу показує які дані є зайві, а яких не хватає.\n"
      ],
      "metadata": {
        "id": "_xQL-qpPuJTl"
      }
    },
    {
      "cell_type": "markdown",
      "source": [
        "Ми розглянемо використання двох інструментів:\n",
        "\n",
        "1.   [Overpass turbo](https://overpass-turbo.eu/)\n",
        "2.   Overpass API    ([документація](https://wiki.openstreetmap.org/wiki/Overpass_API))\n",
        "\n",
        "\n",
        "\n",
        "\n"
      ],
      "metadata": {
        "id": "e2CkzK4wxStZ"
      }
    },
    {
      "cell_type": "markdown",
      "source": [
        "### Overpass turbo"
      ],
      "metadata": {
        "id": "tWYZrBRGyBwm"
      }
    },
    {
      "cell_type": "markdown",
      "source": [
        "#### Інструкція"
      ],
      "metadata": {
        "id": "Qjk4vFkejhfM"
      }
    },
    {
      "cell_type": "markdown",
      "source": [
        "Приклад коду який витягуватиме дані всіх громад Київська області\n",
        "\n",
        "\n",
        "```\n",
        "[out:json][timeout:25];  \n",
        "area['admin_level'='4']['name:uk'='Київська область'];\n",
        "(rel['admin_level'='7'](area););\n",
        "out geom;\n",
        "```\n",
        "\n",
        "\n",
        "Перший рядок `[out:json]` вказує дані якого формату ми бажаємо витягнути <br>\n",
        "\n",
        "Також можливі варінати витяг даних формату xml `[out:xml]` чи csv, при цьому для файлів формату csv обовязково вказувати теги, які ми бажаємо витягнути `[out:csv(::type,::id,name,\"name:en\")]` та [інші](https://wiki.openstreetmap.org/wiki/Overpass_API/Overpass_QL#Output_format_(out:)\n",
        "\n",
        "\n",
        "`[timeout:25]` обмежує час виконання запиту до 25 секунд. Якщо щось піде не так, то ліміт гарантує, що сервер не витрачатиме час.\n",
        "\n",
        "\n",
        "---\n",
        "\n",
        "Другий рядок `area['admin_level'='4']['name:uk'='Київська область']` фільтрує дані вказуючи, що ми хочемо отримати  дані, які знаходяться в межах  де admin_level=4 (тобто область) і називається \"Київська область\". Якщо ми бажаємо отримати дані по всій країні, то варто змінити рядок на `area['admin_level'='2']['name:uk'='Україна']`\n",
        "\n",
        "---\n",
        "\n",
        "Третій рядок `(rel['admin_level'='7'](area);)` вказує що ми хочемо отримати, в даному випадку це `rel` (відносини), інші можливі ваіранти це `node` і `way`. Географічна інформація про широту/довжину завжди зберігається у вузлах. Області з понад 2000 вузлів не можуть бути представлені шляхом, ця функція вимагатиме складнішої багатополігональної структури відсини, тому в даному випадку використовується саме сутність rel (відносини). Проте сутність відносини повертує також \"сусідів\" нашого шуканого запиту, про це детальніше в розділі \"випавлення помилок\" <br> `'admin_level'='7'` вкзаує, що саме ми хочемо витягнути села, міста, райони, в даному випадку це громади.\n",
        "\n",
        "---\n",
        "\n",
        "Нарешті, `out geom` виводить відношення (включаючи їх дочірні шляхи та вузли). Існують багато інших варіантів оператору виходу, вони гарно описані [тут](https://dev.overpass-api.de/overpass-doc/en/targets/formats.html)\n"
      ],
      "metadata": {
        "id": "G80d-cX-yGpX"
      }
    },
    {
      "cell_type": "markdown",
      "source": [
        "#### Деякі приклади"
      ],
      "metadata": {
        "id": "ITF-th8Wjjia"
      }
    },
    {
      "cell_type": "markdown",
      "source": [
        "Приклад коду який витягуватиме дані всіх областей України\n",
        "\n",
        "```\n",
        "[out:json];\n",
        "area['admin_level'='2']['name:uk'='Україна'];\n",
        "(rel['admin_level'='4'](area););\n",
        "out geom;\n",
        "```\n",
        "\n",
        "Приклад коду який витягуватиме дані всіх районів України* (після реформи децентралізації)\n",
        "\n",
        "```\n",
        "[out:json];\n",
        "area['admin_level'='2']['name:uk'='Україна'];\n",
        "(rel['admin_level'='6'](area););\n",
        "out geom;\n",
        "```\n",
        "\n",
        "Приклад коду який витягуватиме дані всіх районів України* (до реформи децентралізації)\n",
        "Вказуючи дату ми отримуємо карту, яка існувала на момент зазначений в коді, майте на увазі це значно сповільнює виконання коду.\n",
        "\n",
        "```\n",
        "[date:\"2014-01-01T19:00:00Z\"]\n",
        "[out:json];\n",
        "area['admin_level'='2']['name:uk'='Україна'];\n",
        "(rel['admin_level'='6'](area););\n",
        "out geom;\n",
        "\n",
        "```\n",
        "\n",
        "Приклад коду який витягуватиме дані всіх громад України*\n",
        "\n",
        "```\n",
        "[out:json];\n",
        "area['admin_level'='2']['name:uk'='Україна'];\n",
        "(rel['admin_level'='7'](area););\n",
        "out geom;\n",
        "```\n",
        "\n",
        "Приклад коду який витягуватиме дані всіх районів Києва\n",
        "\n",
        "```\n",
        "[out:json];\n",
        "area['admin_level'='4']['name:uk'='Київ'];\n",
        "(rel['admin_level'='10'](area););\n",
        "out geom;\n",
        "```\n",
        "**(за виключенням тимчасово окупованих тереторій)*\n",
        "\n",
        "\n",
        "---\n",
        "\n",
        "\n"
      ],
      "metadata": {
        "id": "19rphUcrHkzE"
      }
    },
    {
      "cell_type": "markdown",
      "source": [
        "#### Виправлення даних"
      ],
      "metadata": {
        "id": "tFgi63w_jmv6"
      }
    },
    {
      "cell_type": "markdown",
      "source": [
        "Для тестування використаємо функцію `[bbox]`, яка повертатиме дані лише в\n",
        " виділеній області `[bbox:{{bbox}}]` або в зазначених координатах `[bbox:49.560852, 22.617202, 50.659908, 24.490371]`"
      ],
      "metadata": {
        "id": "B5IyXVpRlMu_"
      }
    },
    {
      "cell_type": "markdown",
      "source": [
        "####Помилка \"сусіди\"\n",
        "\n",
        "(не закінчений розділ!!)\n",
        "\n"
      ],
      "metadata": {
        "id": "qodNYRSAk6Da"
      }
    },
    {
      "cell_type": "markdown",
      "source": [
        "\n",
        "Очікувано, що запит нижче поверне координати міста Києва, але він поверне також Київську область.\n",
        "```\n",
        "[out:json];\n",
        "area['admin_level'='4']['name:uk'='Київ'];\n",
        "(rel['admin_level'='4'](area););\n",
        "out geom;\n",
        "```\n",
        "Проблема в тому, що запит повертатиме шляхи, які є частинами *relative* міста Київа, оскільки Київ межує з Київсьою областю (тобтот має спільні шляхи) і Київська область теж має `'admin_level'='4'`, тому ми отримуємо дві сутності Київ та Київська область.  Ця помилка може вирішитися специфікацією, що ми шукаємо саме місто, якщо ці сутності мають одинаковий тип, наприклад в випадку прикордонних областей, ми можемо відфільтрувати їх за іншим тегами, напрклад для області вказати `[\"iso3166-2\"~\"^UA-\"]` де для позначення України використовується  *UA* або для районі (до реформи централізації) `['wikipedia'~ '^uk']`\n",
        "\n"
      ],
      "metadata": {
        "id": "IILMwtk8mRGa"
      }
    },
    {
      "cell_type": "markdown",
      "source": [
        "Місто Київ не є громадою, проте якщо ми витягуватимео дані по всіх громадах Київської області, то на мапі України в нас буде пусте місце яке належитеме місту Києву. Отже припустимо ми бажаємо отримати всі громади Київської області і міста Київ. Оскільки admin_level для міста Києва і області одинаковий, то варто вказати, що ми шукаємо саме місто  `['place'='city']`\n",
        "\n",
        "```\n",
        "[out:json];\n",
        "area['admin_level'='4']['name:uk'='Київ'];\n",
        "(rel['admin_level'='4']['place'='city'](area););\n",
        "out geom;\n",
        "```\n",
        "\n",
        "Після цього, якщо запити не суперечать одне одному ми можемо їх просто обєднати\n",
        "```\n",
        "[out:json];\n",
        "area['admin_level'='4']['name:uk'='Київська область'];\n",
        "(rel['admin_level'='7'](area););\n",
        "out geom;\n",
        "area['admin_level'='4']['name:uk'='Київ'];\n",
        "(rel['admin_level'='4']['place'='city'](area););\n",
        "out geom;\n",
        "```\n",
        "\n",
        "\n",
        "\n",
        "\n",
        "\n",
        "\n"
      ],
      "metadata": {
        "id": "4Ykr9tcKJROV"
      }
    },
    {
      "cell_type": "markdown",
      "source": [
        "Крим це Україна. Проте, на жаль, в Криму не відбулася реформат децентралізації, тому в ньому і немає районів з `admin_level'='7'` припустимо, що ми бажаємо отримати карту громад України і райони Криму до окупації. <br>\n",
        "Запит для отримання громад повертає близько 70 мб, для тестування нашого коду обмежемо область лише видимою картою додавши `bbox:{{bbox}}`, також нас не цікавлять зміни адміністративних кордонів після окупації, тому задамо параметр   `[date:\"2014-01-01T19:00:00Z\"]`, який повертає стан мапи в зафіксовний період.\n",
        "\n",
        "```\n",
        "[bbox:{{bbox}}]\n",
        "[out:json];\n",
        "area['admin_level'='2']['name:uk'='Україна'];\n",
        "(rel['admin_level'='7'](area););\n",
        "out geom;\n",
        "```\n",
        "\n",
        "Оскільки\n"
      ],
      "metadata": {
        "id": "gIKLeHOSPK_U"
      }
    },
    {
      "cell_type": "markdown",
      "source": [
        "### Витяг даних"
      ],
      "metadata": {
        "id": "qqwcYy-lz01P"
      }
    },
    {
      "cell_type": "markdown",
      "source": [
        "Якщо ми використовуємо Overpass turbo, то варто натиснути \"Експорт\" -> \"GeoJSON\""
      ],
      "metadata": {
        "id": "Llg4MloS0INl"
      }
    },
    {
      "cell_type": "code",
      "source": [],
      "metadata": {
        "id": "IkMi5BL00Oe5"
      },
      "execution_count": null,
      "outputs": []
    },
    {
      "cell_type": "code",
      "source": [],
      "metadata": {
        "id": "eLSrrQYTYKJk"
      },
      "execution_count": null,
      "outputs": []
    },
    {
      "cell_type": "markdown",
      "source": [],
      "metadata": {
        "id": "8Orlof4d0HBx"
      }
    },
    {
      "cell_type": "code",
      "source": [],
      "metadata": {
        "id": "78lqGUEbYKGx"
      },
      "execution_count": null,
      "outputs": []
    },
    {
      "cell_type": "markdown",
      "source": [
        "\n",
        "1.   Пункт списку\n",
        "2.   Пункт списку\n",
        "\n"
      ],
      "metadata": {
        "id": "XqJXKEf_FCzm"
      }
    },
    {
      "cell_type": "markdown",
      "source": [
        "/*[bbox:44.268805, 32.124023, 46.672056, 36.469116]\n",
        "[out:json];\n",
        "(rel['admin_level'='7'](area););\n",
        "out geom;\n",
        "area['admin_level'='4']['name:uk'='Автономна Республіка Крим'];\n",
        "(rel['admin_level'='6'](area););\n",
        "out geom;\n",
        "area['admin_level'='4']['name:uk'='Севастополь'];\n",
        "(rel['admin_level'='4'](area););\n",
        "out geom;\n",
        "\n",
        "\n",
        "[out:json];\n",
        "area['admin_level'='4']['name:uk'='Автономна Республіка Крим'];\n",
        "(rel['admin_level'='6'](area)(newer:\"2020-04-01T00:00:00Z\"););\n",
        "out geom;\n",
        "\n",
        "\n",
        "\n",
        "[date:\"2013-01-01T19:00:00Z\"]\n",
        "[out:json];\n",
        "area['admin_level'='2']['name:uk'='Україна']->.country;\n",
        "area['admin_level'='4']['name:uk'='Луганська область'](area.country)->.region;\n",
        "(node['admin_level'='4'](area.region););\n",
        "out geom ;\n",
        "*/\n",
        "\n",
        "[out:json];\n",
        "area['admin_level'='2']['name:uk'='Україна'];\n",
        "(relation['admin_level'='6'](area););\n",
        "out geom;\n"
      ],
      "metadata": {
        "id": "85mwliZDl2U7"
      }
    }
  ]
}