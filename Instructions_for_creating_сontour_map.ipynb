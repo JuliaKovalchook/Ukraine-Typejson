{
  "nbformat": 4,
  "nbformat_minor": 0,
  "metadata": {
    "colab": {
      "provenance": [],
      "authorship_tag": "ABX9TyPIJGMkuU8qvtTsUq+azD61",
      "include_colab_link": true
    },
    "kernelspec": {
      "name": "python3",
      "display_name": "Python 3"
    },
    "language_info": {
      "name": "python"
    }
  },
  "cells": [
    {
      "cell_type": "markdown",
      "metadata": {
        "id": "view-in-github",
        "colab_type": "text"
      },
      "source": [
        "<a href=\"https://colab.research.google.com/github/JuliaKovalchook/Ukraine-TopoJSON/blob/main/Instructions_for_creating_%D1%81ontour_map.ipynb\" target=\"_parent\"><img src=\"https://colab.research.google.com/assets/colab-badge.svg\" alt=\"Open In Colab\"/></a>"
      ]
    },
    {
      "cell_type": "markdown",
      "source": [
        "##Openstreetmap"
      ],
      "metadata": {
        "id": "QWqjHi0wx-1o"
      }
    },
    {
      "cell_type": "markdown",
      "source": [
        "Openstreetmap містить інформацію щодо координат і багато іншої географічної інформації щодо всіх країн, громад, сіл і навіть озер чи ставків.\n",
        "Існує як і API для витягу даних так і платформа, яка одразу допомагає візуалізувати запит для витягу дані.  \n",
        "<br>\n",
        "Якщо ви бажаєте витягнути лише декількох файлів з інформацією або ви ще не надто впевнено себе відчуваєте з API, Overpass turbo є найкращим рішенням оскільки візуалізація одразу показує які дані є зайві, а яких не хватає.\n"
      ],
      "metadata": {
        "id": "_xQL-qpPuJTl"
      }
    },
    {
      "cell_type": "markdown",
      "source": [
        "Ми розглянемо використання двох інструментів:\n",
        "\n",
        "1.   [Overpass turbo](https://overpass-turbo.eu/)\n",
        "2.   Overpass API    ([документація](https://wiki.openstreetmap.org/wiki/Overpass_API))\n",
        "\n",
        "\n",
        "\n",
        "\n"
      ],
      "metadata": {
        "id": "e2CkzK4wxStZ"
      }
    },
    {
      "cell_type": "markdown",
      "source": [
        "### Overpass turbo"
      ],
      "metadata": {
        "id": "tWYZrBRGyBwm"
      }
    },
    {
      "cell_type": "markdown",
      "source": [
        "Приклад коду який витягуватиме дані всіх громад Київська області\n",
        "\n",
        "\n",
        "```\n",
        "[out:json][timeout:25];  \n",
        "area['admin_level'='4']['name:uk'='Київська область'];\n",
        "(rel['admin_level'='7'](area););\n",
        "out geom;\n",
        "```\n",
        "\n",
        "\n",
        "Перший рядок `[out:json]` вказує дані якого формату ми бажаємо витягнути <br>\n",
        "\n",
        "Також можливі варінати витяг даних формату xml `[out:xml]` чи csv, при цьому для файлів формату csv обовязково вказувати теги, які ми бажаємо витягнути `[out:csv(::type,::id,name,\"name:en\")]` та [інші](https://wiki.openstreetmap.org/wiki/Overpass_API/Overpass_QL#Output_format_(out:)\n",
        "\n",
        "\n",
        "`[timeout:25]` обмежує час виконання запиту до 25 секунд. Якщо щось піде не так, то ліміт гарантує, що сервер не витрачатиме час.\n",
        "\n",
        "\n",
        "---\n",
        "\n",
        "Другий рядок `area['admin_level'='4']['name:uk'='Київська область']` фільтрує дані вказуючи, що ми хочемо отримати  дані, які знаходяться в межах  де admin_level=4 (тобто область) і називається \"Київська область\". Якщо ми бажаємо отримати дані по всій країні, то варто змінити рядок на `area['admin_level'='2']['name:uk'='Україна']`\n",
        "\n",
        "---\n",
        "\n",
        "Третій рядок `(rel['admin_level'='7'](area);)` вказує що ми хочемо отримати, в даному випадку це `rel` (відносини), інші можливі ваіранти це `node` і `way`. Географічна інформація про широту/довжину завжди зберігається у вузлах. Області з понад 2000 вузлів не можуть бути представлені шляхом, ця функція вимагатиме складнішої багатополігональної структури відсини, тому в даному випадку використовується саме сутність rel (відносини).  <br> `'admin_level'='7'` вкзаує, що саме ми хочемо витягнути села, міста, райони, в даному випадку це громади.\n",
        "\n",
        "---\n",
        "\n",
        "Нарешті, `out geom` виводить відношення (включаючи їх дочірні шляхи та вузли). Існують багато інших варіантів оператору виходу, вони гарно описані [тут](https://dev.overpass-api.de/overpass-doc/en/targets/formats.html)\n"
      ],
      "metadata": {
        "id": "G80d-cX-yGpX"
      }
    },
    {
      "cell_type": "markdown",
      "source": [
        "Приклад коду який витягуватиме дані всіх областей України\n",
        "\n",
        "```\n",
        "[out:json];\n",
        "area['admin_level'='2']['name:uk'='Україна'];\n",
        "(rel['admin_level'='4'](area););\n",
        "out geom;\n",
        "```\n",
        "\n",
        "Приклад коду який витягуватиме дані всіх районів України* (після реформи децентралізації)\n",
        "\n",
        "```\n",
        "[out:json];\n",
        "area['admin_level'='2']['name:uk'='Україна'];\n",
        "(rel['admin_level'='6'](area););\n",
        "out geom;\n",
        "```\n",
        "\n",
        "Приклад коду який витягуватиме дані всіх громад України*\n",
        "\n",
        "```\n",
        "[out:json];\n",
        "area['admin_level'='2']['name:uk'='Україна'];\n",
        "(rel['admin_level'='7'](area););\n",
        "out geom;\n",
        "```\n",
        "\n",
        "Приклад коду який витягуватиме дані всіх районів Києва\n",
        "\n",
        "```\n",
        "[out:json];\n",
        "area['admin_level'='4']['name:uk'='Київ'];\n",
        "(rel['admin_level'='10'](area););\n",
        "out geom;\n",
        "```\n",
        "**(за виключенням тимчасово окупованих тереторій)*\n",
        "\n",
        "\n",
        "---\n",
        "\n",
        "\n"
      ],
      "metadata": {
        "id": "19rphUcrHkzE"
      }
    },
    {
      "cell_type": "markdown",
      "source": [
        "Місто Київ не є громадою, проте якщо ми витягуватимео дані по всіх громадах Київської області, то на мапі України в нас буде пусте місце яке належитеме місту Києву. Отже припустимо ми бажаємо отримати всі громади Київської області і міста Київ.\n",
        "Спочатку спробуємо отримати дані  Києва. Нижче наведений запит, який також поверне Київську область, оскільки admin_level для міста Києва і області одинаковий\n",
        "\n",
        "```\n",
        "[out:json];\n",
        "area['admin_level'='4']['name:uk'='Київ'];\n",
        "(rel['admin_level'='4'](area););\n",
        "out geom;\n",
        "```\n",
        "\n",
        "Тож варто вказати, що ми шукаємо саме місто  `['place'='city']`\n",
        "\n",
        "```\n",
        "[out:json];\n",
        "area['admin_level'='4']['name:uk'='Київ'];\n",
        "(rel['admin_level'='4']['place'='city'](area););\n",
        "out geom;\n",
        "```\n",
        "\n",
        "Після цього, якщо запити не суперечать одне одному ми можемо їх просто обєднати\n",
        "```\n",
        "[out:json];\n",
        "area['admin_level'='4']['name:uk'='Київська область'];\n",
        "(rel['admin_level'='7'](area););\n",
        "out geom;\n",
        "area['admin_level'='4']['name:uk'='Київ'];\n",
        "(rel['admin_level'='4']['place'='city'](area););\n",
        "out geom;\n",
        "```\n",
        "\n",
        "\n",
        "\n",
        "\n",
        "\n",
        "\n"
      ],
      "metadata": {
        "id": "4Ykr9tcKJROV"
      }
    },
    {
      "cell_type": "markdown",
      "source": [
        "Для конвертації файлу з GeoJSON до TurboJson  можна використати будь який онлайн сай, наприклад:\n",
        "https://mapshaper.org/"
      ],
      "metadata": {
        "id": "XqJXKEf_FCzm"
      }
    }
  ]
}